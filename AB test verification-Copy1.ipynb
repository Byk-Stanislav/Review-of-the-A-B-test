{
 "cells": [
  {
   "cell_type": "code",
   "execution_count": null,
   "metadata": {},
   "outputs": [],
   "source": [
    "# для принятия решения проанализирую:\n",
    "# 1) является ли разница среднего дохода на пользователя между группами статистически значимой\n",
    "# 2) если рассматривать платящих пользователей, есть ли статестически значимая разница в средних чеках между группами\n",
    "# 3) есть ли разница конверсий из обычного пользователя в платящего между группами"
   ]
  },
  {
   "cell_type": "code",
   "execution_count": 1,
   "metadata": {},
   "outputs": [],
   "source": [
    "import pandas as pd\n",
    "import seaborn as sns\n",
    "import scipy\n",
    "from scipy.stats import chi2_contingency"
   ]
  },
  {
   "cell_type": "code",
   "execution_count": 2,
   "metadata": {},
   "outputs": [],
   "source": [
    "inf = pd.read_csv('AB_test_inf.csv')"
   ]
  },
  {
   "cell_type": "code",
   "execution_count": 3,
   "metadata": {},
   "outputs": [],
   "source": [
    "#подготовка данных\n",
    "inf[['user_id', 'revenue', 'group']] = inf['user_id;revenue;testgroup'].str.split(';', expand=True)"
   ]
  },
  {
   "cell_type": "code",
   "execution_count": 4,
   "metadata": {},
   "outputs": [
    {
     "data": {
      "text/html": [
       "<div>\n",
       "<style scoped>\n",
       "    .dataframe tbody tr th:only-of-type {\n",
       "        vertical-align: middle;\n",
       "    }\n",
       "\n",
       "    .dataframe tbody tr th {\n",
       "        vertical-align: top;\n",
       "    }\n",
       "\n",
       "    .dataframe thead th {\n",
       "        text-align: right;\n",
       "    }\n",
       "</style>\n",
       "<table border=\"1\" class=\"dataframe\">\n",
       "  <thead>\n",
       "    <tr style=\"text-align: right;\">\n",
       "      <th></th>\n",
       "      <th>user_id;revenue;testgroup</th>\n",
       "      <th>user_id</th>\n",
       "      <th>revenue</th>\n",
       "      <th>group</th>\n",
       "    </tr>\n",
       "  </thead>\n",
       "  <tbody>\n",
       "    <tr>\n",
       "      <th>0</th>\n",
       "      <td>1;0;b</td>\n",
       "      <td>1</td>\n",
       "      <td>0</td>\n",
       "      <td>b</td>\n",
       "    </tr>\n",
       "    <tr>\n",
       "      <th>1</th>\n",
       "      <td>2;0;a</td>\n",
       "      <td>2</td>\n",
       "      <td>0</td>\n",
       "      <td>a</td>\n",
       "    </tr>\n",
       "    <tr>\n",
       "      <th>2</th>\n",
       "      <td>3;0;a</td>\n",
       "      <td>3</td>\n",
       "      <td>0</td>\n",
       "      <td>a</td>\n",
       "    </tr>\n",
       "    <tr>\n",
       "      <th>3</th>\n",
       "      <td>4;0;b</td>\n",
       "      <td>4</td>\n",
       "      <td>0</td>\n",
       "      <td>b</td>\n",
       "    </tr>\n",
       "    <tr>\n",
       "      <th>4</th>\n",
       "      <td>5;0;b</td>\n",
       "      <td>5</td>\n",
       "      <td>0</td>\n",
       "      <td>b</td>\n",
       "    </tr>\n",
       "  </tbody>\n",
       "</table>\n",
       "</div>"
      ],
      "text/plain": [
       "  user_id;revenue;testgroup user_id revenue group\n",
       "0                     1;0;b       1       0     b\n",
       "1                     2;0;a       2       0     a\n",
       "2                     3;0;a       3       0     a\n",
       "3                     4;0;b       4       0     b\n",
       "4                     5;0;b       5       0     b"
      ]
     },
     "execution_count": 4,
     "metadata": {},
     "output_type": "execute_result"
    }
   ],
   "source": [
    "inf.head()"
   ]
  },
  {
   "cell_type": "code",
   "execution_count": 5,
   "metadata": {},
   "outputs": [
    {
     "data": {
      "text/plain": [
       "user_id;revenue;testgroup    object\n",
       "user_id                      object\n",
       "revenue                      object\n",
       "group                        object\n",
       "dtype: object"
      ]
     },
     "execution_count": 5,
     "metadata": {},
     "output_type": "execute_result"
    }
   ],
   "source": [
    "inf.dtypes"
   ]
  },
  {
   "cell_type": "code",
   "execution_count": 6,
   "metadata": {},
   "outputs": [],
   "source": [
    "# для расчета метрик revenue должно быть числом\n",
    "inf[\"revenue\"] = inf[\"revenue\"].astype(float)"
   ]
  },
  {
   "cell_type": "code",
   "execution_count": 7,
   "metadata": {},
   "outputs": [
    {
     "name": "stdout",
     "output_type": "stream",
     "text": [
      "False\n",
      "False\n"
     ]
    }
   ],
   "source": [
    "#проверка на нулевые значения и повторения id\n",
    "print(inf.isnull().any().any())\n",
    "print(inf['user_id'].duplicated().any())"
   ]
  },
  {
   "cell_type": "code",
   "execution_count": 8,
   "metadata": {},
   "outputs": [],
   "source": [
    "group_a = inf.query(\"group == 'a'\")\n",
    "group_b = inf.query(\"group == 'b'\")\n",
    "paid_group_a = group_a.query(\"revenue > 0\")\n",
    "paid_group_b = group_b.query(\"revenue > 0\")"
   ]
  },
  {
   "cell_type": "code",
   "execution_count": 9,
   "metadata": {},
   "outputs": [
    {
     "data": {
      "text/plain": [
       "<matplotlib.axes._subplots.AxesSubplot at 0x7f0ab49da198>"
      ]
     },
     "execution_count": 9,
     "metadata": {},
     "output_type": "execute_result"
    },
    {
     "data": {
      "image/png": "[encoded data removed]",
      "text/plain": [
       "<Figure size 432x288 with 1 Axes>"
      ]
     },
     "metadata": {
      "needs_background": "light"
     },
     "output_type": "display_data"
    }
   ],
   "source": [
    "# построю боксплоты по оплатам (отдельно по контрольной и тестовой группе), чтобы в целом увидеть поведение платящих пользователей\n",
    "sns.boxplot(data = paid_group_b, x = \"revenue\")"
   ]
  },
  {
   "cell_type": "code",
   "execution_count": 10,
   "metadata": {},
   "outputs": [
    {
     "data": {
      "text/plain": [
       "<matplotlib.axes._subplots.AxesSubplot at 0x7f0aaf03fb00>"
      ]
     },
     "execution_count": 10,
     "metadata": {},
     "output_type": "execute_result"
    },
    {
     "data": {
      "image/png": "[encoded data removed]",
      "text/plain": [
       "<Figure size 432x288 with 1 Axes>"
      ]
     },
     "metadata": {
      "needs_background": "light"
     },
     "output_type": "display_data"
    }
   ],
   "source": [
    "sns.boxplot(data = paid_group_a, x = \"revenue\")"
   ]
  },
  {
   "cell_type": "code",
   "execution_count": 11,
   "metadata": {},
   "outputs": [
    {
     "name": "stdout",
     "output_type": "stream",
     "text": [
      "(123, 4)\n",
      "311.0\n",
      "3022.0\n",
      "9.717041800643086\n"
     ]
    }
   ],
   "source": [
    "# Сразу видно, что две группы очень отличаются. Оплаты тестовой группы распределены равномерно от 2000 до 4000,\n",
    "#в контрольной группе подавляющее количество совершивших покупку принесли выручку не более 500, но есть очень большие выбросы\n",
    "outliers_group_a = paid_group_a.query(\"revenue > 500\")\n",
    "print(outliers_group_a.shape)\n",
    "#Но это не один выброс, а 123, при этом все id клиентов уникальны, а в тестовой группе такие крупные заказы отсутствуют\n",
    "print(paid_group_a['revenue'].median())\n",
    "print(paid_group_b['revenue'].median())\n",
    "print(paid_group_b['revenue'].median() / paid_group_a['revenue'].median())"
   ]
  },
  {
   "cell_type": "code",
   "execution_count": 12,
   "metadata": {},
   "outputs": [],
   "source": [
    "#!!! Сам эксперимент очень сомнителен. В группах разные, непересекающиеся сегменты пользователей по величине оплат,\n",
    "# сплитование проведено некорректно. Необходимо пересобрать группы и запустить эксперимент повторно, но все же \n",
    "# закончу анализ имеющихся данных."
   ]
  },
  {
   "cell_type": "code",
   "execution_count": 13,
   "metadata": {},
   "outputs": [
    {
     "name": "stdout",
     "output_type": "stream",
     "text": [
      "4590252.0\n",
      "545937.0\n",
      "0.8937077665950377\n",
      "0.0006086005650584108\n",
      "0.0637966804979253\n"
     ]
    }
   ],
   "source": [
    "# в контрольной группе 0,06 процента пользователей (6,4 % от всех платящих в группе) приносят 89,4 % дохода\n",
    "paid_group_a_big = paid_group_a.query('revenue > 600')\n",
    "paid_group_a_small = paid_group_a.query('revenue < 600')\n",
    "print(paid_group_a_big['revenue'].sum())\n",
    "print(paid_group_a_small['revenue'].sum())\n",
    "print(paid_group_a_big['revenue'].sum() / (paid_group_a_big['revenue'].sum() + paid_group_a_small['revenue'].sum()))\n",
    "print(123 / 202103)\n",
    "print(123 / 1928)"
   ]
  },
  {
   "cell_type": "code",
   "execution_count": 14,
   "metadata": {},
   "outputs": [
    {
     "name": "stdout",
     "output_type": "stream",
     "text": [
      "ShapiroResult(statistic=0.008876502513885498, pvalue=0.0)\n",
      "ShapiroResult(statistic=0.06588172912597656, pvalue=0.0)\n",
      "ShapiroResult(statistic=0.2667924761772156, pvalue=0.0)\n",
      "ShapiroResult(statistic=0.9583123922348022, pvalue=2.491345674771425e-22)\n",
      "(202103, 4)\n",
      "(1928, 4)\n",
      "(202667, 4)\n",
      "(1805, 4)\n"
     ]
    },
    {
     "name": "stderr",
     "output_type": "stream",
     "text": [
      "/opt/tljh/user/lib/python3.7/site-packages/scipy/stats/morestats.py:1760: UserWarning: p-value may not be accurate for N > 5000.\n",
      "  warnings.warn(\"p-value may not be accurate for N > 5000.\")\n"
     ]
    }
   ],
   "source": [
    "#распределения не нормальны\n",
    "print(scipy.stats.shapiro(group_a['revenue']))\n",
    "print(scipy.stats.shapiro(group_b['revenue']))\n",
    "print(scipy.stats.shapiro(paid_group_a['revenue']))\n",
    "print(scipy.stats.shapiro(paid_group_b['revenue']))\n",
    "print(group_a.shape)\n",
    "print(paid_group_a.shape)\n",
    "print(group_b.shape)\n",
    "print(paid_group_b.shape)"
   ]
  },
  {
   "cell_type": "code",
   "execution_count": 15,
   "metadata": {},
   "outputs": [
    {
     "name": "stdout",
     "output_type": "stream",
     "text": [
      "MannwhitneyuResult(statistic=20491259376.0, pvalue=0.06269701316074398)\n",
      "Ttest_indResult(statistic=-0.6242026493616787, pvalue=0.532494858971837)\n"
     ]
    }
   ],
   "source": [
    "#данные в group_a['revenue'] и group_b['revenue'] распределены не нормально, сравню с помощью критерия Манна-Уитни\n",
    "#нулевая гипотеза - в этих двух группах нет различий в распределении частот\n",
    "#альтернативная гипотеза - есть различия\n",
    "print(scipy.stats.mannwhitneyu(group_a['revenue'], group_b['revenue']))\n",
    "# не могу отклонить нулевую гипотезу\n",
    "# так как выборки достаточно крупные, можно сравнить их с помощью т-теста\n",
    "#нулевая гипотеза - статистически значимого различия между средними нет\n",
    "#альтернативная гипотеза - статистически значимые различия между средними есть\n",
    "print(scipy.stats.ttest_ind(group_a['revenue'], group_b['revenue']))\n",
    "# т-тест тоже не позволяет отклонить нулевую гипотезу"
   ]
  },
  {
   "cell_type": "code",
   "execution_count": 16,
   "metadata": {},
   "outputs": [
    {
     "name": "stdout",
     "output_type": "stream",
     "text": [
      "MannwhitneyuResult(statistic=222015.0, pvalue=0.0)\n",
      "Ttest_indResult(statistic=-1.5917100176862002, pvalue=0.11153459157259504)\n"
     ]
    }
   ],
   "source": [
    "# теперь таким же способом с такими же гипотезами сравню средний чек на одного ПЛАТЯЩЕГО пользователя\n",
    "print(scipy.stats.mannwhitneyu(paid_group_a['revenue'], paid_group_b['revenue']))\n",
    "print(scipy.stats.ttest_ind(paid_group_a['revenue'], paid_group_b['revenue']))\n",
    "# статистически значимых различий между средними нет, в распределении частот разница есть, это было видно и на графиках:\n",
    "# в тестовой группе они распределены равномерно, в контрольной - много маленьких чеков и чуть больше сотни очень больших"
   ]
  },
  {
   "cell_type": "code",
   "execution_count": 17,
   "metadata": {},
   "outputs": [
    {
     "data": {
      "text/plain": [
       "(4.294148751290091,\n",
       " 0.03824373651044168,\n",
       " 1,\n",
       " array([[202603.48501725,   1868.51498275],\n",
       "        [202166.51498275,   1864.48501725]]))"
      ]
     },
     "execution_count": 17,
     "metadata": {},
     "output_type": "execute_result"
    }
   ],
   "source": [
    "# проверю есть ли статистически значимая разница между конверсией из обычного пользователя в платящего\n",
    "# так как это конверсия, сравниваемы данные примерно одинаковые, наблюдения не зависимы, буду использовать критерий хи квадрат\n",
    "# нулевая гипотеза: распределение конверсии в покупку в группе a соответствует распределению конверсии в покупку в группе b\n",
    "# альтернативная гипотеза: не соответствует\n",
    "conversion_to_purchase = pd.DataFrame({'all_in_group': [202667, 202103], 'paid in group': [1805, 1928]})\n",
    "chi2_contingency(conversion_to_purchase)\n",
    "# хи значение статистики 4.294148751290091, при степени свободы 1 хи значение из таблицы = 3.84 \n",
    "# получившеeся хи значение больше, pvalue < 0.05 значит, можно отвергнуть нулевую гипотезу\n",
    "# НО, хи значение статистики не намного выше табличного, а pvalue не намного меньше 0.05, поэтому утвержать, что в тестовой\n",
    "# группе конверсия закономерно ниже (0,89% против 0,95) нужно с большой осторожностью."
   ]
  },
  {
   "cell_type": "code",
   "execution_count": 18,
   "metadata": {},
   "outputs": [],
   "source": [
    "# Итог анализа имеющихся данных:\n",
    "# Разница в ARPU в двух группах статистически не значима, разница среднего дохода от платящих пользователей тоже\n",
    "# конверсия в покупку в контрольной группе выше на 0,06 процента, с большой долей вероятости это закономерно, но утверждать точно нельзя\n",
    "# тестовая группа более стабильна, ее медианное значение в 9,72 раза выше, чем у контрольной и в ней нет выбросов\n",
    "# в контрольной группе важную роль играют 123 'кита', которые 89,4% дохода от всей контрольной группы"
   ]
  },
  {
   "cell_type": "code",
   "execution_count": 19,
   "metadata": {},
   "outputs": [],
   "source": [
    "# ИТОГ:\n",
    "# A/B тест проведен некорректно. Необходимо пересобрать группы и запустить эксперимент повторно\n",
    "# Рекомендации на случай, если возможности провести тест повторно нет:\n",
    "# ни один из наборов акционных предложений не является очевидно лучшим,\n",
    "# ститистически значимых различий между ними почти нет (у контрольной группы немного больше конверсия в покупку),\n",
    "# я бы рекомендовал либо придерживаться того варианта, который был показан группе b (выше описывал, что он более надежный, \n",
    "# при варианте a уход небольшого количества игроков приведет к серьезным потерям), либо отдельно проанализировать этих 123 'китов'\n",
    "# из контрольной группы, собрав дополнительные данные (это вполне реально, их мало), чтобы ответить на вопросы:\n",
    "# чем они отличаются от среднего потребителя?; почему таких нет в тестовой группе?; можно ли что-то сделать, чтобы их было\n",
    "# больше и тд."
   ]
  },
  {
   "cell_type": "code",
   "execution_count": null,
   "metadata": {},
   "outputs": [],
   "source": []
  }
 ],
 "metadata": {
  "kernelspec": {
   "display_name": "Python 3",
   "language": "python",
   "name": "python3"
  },
  "language_info": {
   "codemirror_mode": {
    "name": "ipython",
    "version": 3
   },
   "file_extension": ".py",
   "mimetype": "text/x-python",
   "name": "python",
   "nbconvert_exporter": "python",
   "pygments_lexer": "ipython3",
   "version": "3.7.3"
  }
 },
 "nbformat": 4,
 "nbformat_minor": 4
}
